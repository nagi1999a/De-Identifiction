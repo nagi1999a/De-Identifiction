{
 "cells": [
  {
   "cell_type": "markdown",
   "metadata": {},
   "source": [
    "# De-Identifiction of Students' Data\n",
    "本程式碼用於對可能包含部分學生個人資訊的內容進行去識別/去連結化"
   ]
  },
  {
   "cell_type": "markdown",
   "metadata": {},
   "source": [
    "## Step 0: 環境與資料設定\n",
    "在此步驟中，將會先建構一份測試資料，並以變數形式指定欲去識別/去連結化的欄位與丟棄的欄位"
   ]
  },
  {
   "cell_type": "markdown",
   "metadata": {},
   "source": [
    "### Step 0.0: 建構測試資料\n",
    "- 本程式旨在建構一個彈性的去識別/去連結化方式，將不針對單資料進行分析，因此建構測試資料，方便後續改動\n",
    "- 在測試資料中，包含了一個「學生識別碼」欄位 (`student_id`)，兩個「一般資料」欄位 (`data_1`, `data_2`)，以及一個「應丟棄資料」(`email`)"
   ]
  },
  {
   "cell_type": "code",
   "execution_count": 1,
   "metadata": {},
   "outputs": [
    {
     "data": {
      "text/html": [
       "<div>\n",
       "<style scoped>\n",
       "    .dataframe tbody tr th:only-of-type {\n",
       "        vertical-align: middle;\n",
       "    }\n",
       "\n",
       "    .dataframe tbody tr th {\n",
       "        vertical-align: top;\n",
       "    }\n",
       "\n",
       "    .dataframe thead th {\n",
       "        text-align: right;\n",
       "    }\n",
       "</style>\n",
       "<table border=\"1\" class=\"dataframe\">\n",
       "  <thead>\n",
       "    <tr style=\"text-align: right;\">\n",
       "      <th></th>\n",
       "      <th>student_id</th>\n",
       "      <th>data_1</th>\n",
       "      <th>data_2</th>\n",
       "      <th>email</th>\n",
       "    </tr>\n",
       "  </thead>\n",
       "  <tbody>\n",
       "    <tr>\n",
       "      <th>1</th>\n",
       "      <td>1</td>\n",
       "      <td>hard</td>\n",
       "      <td>low</td>\n",
       "      <td>11@example.com</td>\n",
       "    </tr>\n",
       "    <tr>\n",
       "      <th>8</th>\n",
       "      <td>8</td>\n",
       "      <td>easy</td>\n",
       "      <td>high</td>\n",
       "      <td>88@example.com</td>\n",
       "    </tr>\n",
       "    <tr>\n",
       "      <th>2</th>\n",
       "      <td>2</td>\n",
       "      <td>hard</td>\n",
       "      <td>high</td>\n",
       "      <td>22@example.com</td>\n",
       "    </tr>\n",
       "    <tr>\n",
       "      <th>4</th>\n",
       "      <td>4</td>\n",
       "      <td>easy</td>\n",
       "      <td>low</td>\n",
       "      <td>44@example.com</td>\n",
       "    </tr>\n",
       "    <tr>\n",
       "      <th>5</th>\n",
       "      <td>5</td>\n",
       "      <td>easy</td>\n",
       "      <td>high</td>\n",
       "      <td>55@example.com</td>\n",
       "    </tr>\n",
       "    <tr>\n",
       "      <th>3</th>\n",
       "      <td>3</td>\n",
       "      <td>easy</td>\n",
       "      <td>high</td>\n",
       "      <td>33@example.com</td>\n",
       "    </tr>\n",
       "    <tr>\n",
       "      <th>7</th>\n",
       "      <td>7</td>\n",
       "      <td>hard</td>\n",
       "      <td>high</td>\n",
       "      <td>77@example.com</td>\n",
       "    </tr>\n",
       "    <tr>\n",
       "      <th>6</th>\n",
       "      <td>6</td>\n",
       "      <td>hard</td>\n",
       "      <td>low</td>\n",
       "      <td>66@example.com</td>\n",
       "    </tr>\n",
       "    <tr>\n",
       "      <th>9</th>\n",
       "      <td>9</td>\n",
       "      <td>easy</td>\n",
       "      <td>low</td>\n",
       "      <td>99@example.com</td>\n",
       "    </tr>\n",
       "    <tr>\n",
       "      <th>0</th>\n",
       "      <td>0</td>\n",
       "      <td>easy</td>\n",
       "      <td>high</td>\n",
       "      <td>00@example.com</td>\n",
       "    </tr>\n",
       "  </tbody>\n",
       "</table>\n",
       "</div>"
      ],
      "text/plain": [
       "   student_id data_1 data_2           email\n",
       "1           1   hard    low  11@example.com\n",
       "8           8   easy   high  88@example.com\n",
       "2           2   hard   high  22@example.com\n",
       "4           4   easy    low  44@example.com\n",
       "5           5   easy   high  55@example.com\n",
       "3           3   easy   high  33@example.com\n",
       "7           7   hard   high  77@example.com\n",
       "6           6   hard    low  66@example.com\n",
       "9           9   easy    low  99@example.com\n",
       "0           0   easy   high  00@example.com"
      ]
     },
     "metadata": {},
     "output_type": "display_data"
    }
   ],
   "source": [
    "import pandas as pd\n",
    "from IPython.display import display\n",
    "test_data = pd.DataFrame({'student_id': [i for i in range(10)], \n",
    "                          'data_1': ['easy', 'hard', 'hard', 'easy', 'easy', 'easy', 'hard', 'hard', 'easy', 'easy'],\n",
    "                          'data_2': ['high', 'low', 'high', 'high', 'low', 'high', 'low', 'high', 'high', 'low'],\n",
    "                          'email': [f'{i}{i}@example.com' for i in range(10)]}).sample(frac=1)\n",
    "display(test_data)"
   ]
  },
  {
   "cell_type": "markdown",
   "metadata": {},
   "source": [
    "### Step 0.1: 環境設定"
   ]
  },
  {
   "cell_type": "code",
   "execution_count": 2,
   "metadata": {},
   "outputs": [],
   "source": [
    "import pandas as pd\n",
    "from IPython.display import display\n",
    "import random\n",
    "import pickle"
   ]
  },
  {
   "cell_type": "markdown",
   "metadata": {},
   "source": [
    "### Step 0.1: 資料設定\n",
    "在此部分將會設定以下變數：\n",
    "- `DEID_SOURCE`：欲重新編碼，進行去識別/去連結化的欄位\n",
    "- `DEID_TARGET`：進行去識別/去連結化後，欲儲存的欄位\n",
    "- `DROP_COLS`：欲丟棄的欄位\n",
    "- `DEID_DICT_SIZE`：欲建立的編碼字典大小\n",
    "- `DATA`：欲進行去識別/去連結化的資料，爲 `pandas.DataFrame` 格式\n",
    "- `DATA_OUTPUT_PATH`: 欲儲存去識別/去連結化後的資料路徑\n",
    "\n",
    "*本部分將以測試資料做說明"
   ]
  },
  {
   "cell_type": "code",
   "execution_count": 3,
   "metadata": {},
   "outputs": [],
   "source": [
    "DEID_SOURCE = 'student_id'\n",
    "DEID_TARGET = 'student_deid'\n",
    "DROP_COLS = ['email']\n",
    "DEID_DICT_SIZE = 10**5\n",
    "\n",
    "DATA = test_data\n",
    "DATA_OUTPUT_PATH = 'deid_data.pkl'"
   ]
  },
  {
   "cell_type": "markdown",
   "metadata": {},
   "source": [
    "## Step 1: 建構對應字典\n",
    "在本步驟中，將會建構一個一次性的隨機字典，用以編碼應去識別/去連結化的欄位"
   ]
  },
  {
   "cell_type": "code",
   "execution_count": 4,
   "metadata": {},
   "outputs": [],
   "source": [
    "mapping_dict = {k: v for v, k in enumerate(random.sample(range(DEID_DICT_SIZE), DEID_DICT_SIZE))}"
   ]
  },
  {
   "cell_type": "markdown",
   "metadata": {},
   "source": [
    "## Step 2: 進行去識別/去連結化\n",
    "在本步驟中，將會進行去識別/去連結化的動作，並將結果輸出至指定位置\n",
    "\n",
    "*由於並沒有指定隨機種子值，每次執行結果將會不同，儘可能保證隨機性"
   ]
  },
  {
   "cell_type": "markdown",
   "metadata": {},
   "source": [
    "### Step 2.1 進行欄位替換"
   ]
  },
  {
   "cell_type": "code",
   "execution_count": 5,
   "metadata": {},
   "outputs": [
    {
     "data": {
      "text/html": [
       "<div>\n",
       "<style scoped>\n",
       "    .dataframe tbody tr th:only-of-type {\n",
       "        vertical-align: middle;\n",
       "    }\n",
       "\n",
       "    .dataframe tbody tr th {\n",
       "        vertical-align: top;\n",
       "    }\n",
       "\n",
       "    .dataframe thead th {\n",
       "        text-align: right;\n",
       "    }\n",
       "</style>\n",
       "<table border=\"1\" class=\"dataframe\">\n",
       "  <thead>\n",
       "    <tr style=\"text-align: right;\">\n",
       "      <th></th>\n",
       "      <th>data_1</th>\n",
       "      <th>data_2</th>\n",
       "      <th>email</th>\n",
       "      <th>student_deid</th>\n",
       "    </tr>\n",
       "  </thead>\n",
       "  <tbody>\n",
       "    <tr>\n",
       "      <th>1</th>\n",
       "      <td>hard</td>\n",
       "      <td>low</td>\n",
       "      <td>11@example.com</td>\n",
       "      <td>910</td>\n",
       "    </tr>\n",
       "    <tr>\n",
       "      <th>8</th>\n",
       "      <td>easy</td>\n",
       "      <td>high</td>\n",
       "      <td>88@example.com</td>\n",
       "      <td>67592</td>\n",
       "    </tr>\n",
       "    <tr>\n",
       "      <th>2</th>\n",
       "      <td>hard</td>\n",
       "      <td>high</td>\n",
       "      <td>22@example.com</td>\n",
       "      <td>41693</td>\n",
       "    </tr>\n",
       "    <tr>\n",
       "      <th>4</th>\n",
       "      <td>easy</td>\n",
       "      <td>low</td>\n",
       "      <td>44@example.com</td>\n",
       "      <td>43523</td>\n",
       "    </tr>\n",
       "    <tr>\n",
       "      <th>5</th>\n",
       "      <td>easy</td>\n",
       "      <td>high</td>\n",
       "      <td>55@example.com</td>\n",
       "      <td>47838</td>\n",
       "    </tr>\n",
       "    <tr>\n",
       "      <th>3</th>\n",
       "      <td>easy</td>\n",
       "      <td>high</td>\n",
       "      <td>33@example.com</td>\n",
       "      <td>96838</td>\n",
       "    </tr>\n",
       "    <tr>\n",
       "      <th>7</th>\n",
       "      <td>hard</td>\n",
       "      <td>high</td>\n",
       "      <td>77@example.com</td>\n",
       "      <td>65348</td>\n",
       "    </tr>\n",
       "    <tr>\n",
       "      <th>6</th>\n",
       "      <td>hard</td>\n",
       "      <td>low</td>\n",
       "      <td>66@example.com</td>\n",
       "      <td>7224</td>\n",
       "    </tr>\n",
       "    <tr>\n",
       "      <th>9</th>\n",
       "      <td>easy</td>\n",
       "      <td>low</td>\n",
       "      <td>99@example.com</td>\n",
       "      <td>67748</td>\n",
       "    </tr>\n",
       "    <tr>\n",
       "      <th>0</th>\n",
       "      <td>easy</td>\n",
       "      <td>high</td>\n",
       "      <td>00@example.com</td>\n",
       "      <td>30511</td>\n",
       "    </tr>\n",
       "  </tbody>\n",
       "</table>\n",
       "</div>"
      ],
      "text/plain": [
       "  data_1 data_2           email  student_deid\n",
       "1   hard    low  11@example.com           910\n",
       "8   easy   high  88@example.com         67592\n",
       "2   hard   high  22@example.com         41693\n",
       "4   easy    low  44@example.com         43523\n",
       "5   easy   high  55@example.com         47838\n",
       "3   easy   high  33@example.com         96838\n",
       "7   hard   high  77@example.com         65348\n",
       "6   hard    low  66@example.com          7224\n",
       "9   easy    low  99@example.com         67748\n",
       "0   easy   high  00@example.com         30511"
      ]
     },
     "metadata": {},
     "output_type": "display_data"
    }
   ],
   "source": [
    "# ensure no missing values in the source column\n",
    "assert not DATA[DEID_SOURCE].isna().any()\n",
    "\n",
    "deid_results = DATA.assign(**{DEID_TARGET: DATA[DEID_SOURCE].astype(int).map(mapping_dict)}).drop(DEID_SOURCE, axis=1)\n",
    "\n",
    "# ensure no missing values in the target column\n",
    "assert not deid_results[DEID_TARGET].isna().any()\n",
    "\n",
    "display(deid_results)"
   ]
  },
  {
   "cell_type": "markdown",
   "metadata": {},
   "source": [
    "### Step 2.2 丟棄額外欄位"
   ]
  },
  {
   "cell_type": "code",
   "execution_count": 6,
   "metadata": {},
   "outputs": [
    {
     "data": {
      "text/html": [
       "<div>\n",
       "<style scoped>\n",
       "    .dataframe tbody tr th:only-of-type {\n",
       "        vertical-align: middle;\n",
       "    }\n",
       "\n",
       "    .dataframe tbody tr th {\n",
       "        vertical-align: top;\n",
       "    }\n",
       "\n",
       "    .dataframe thead th {\n",
       "        text-align: right;\n",
       "    }\n",
       "</style>\n",
       "<table border=\"1\" class=\"dataframe\">\n",
       "  <thead>\n",
       "    <tr style=\"text-align: right;\">\n",
       "      <th></th>\n",
       "      <th>data_1</th>\n",
       "      <th>data_2</th>\n",
       "      <th>student_deid</th>\n",
       "    </tr>\n",
       "  </thead>\n",
       "  <tbody>\n",
       "    <tr>\n",
       "      <th>0</th>\n",
       "      <td>hard</td>\n",
       "      <td>low</td>\n",
       "      <td>910</td>\n",
       "    </tr>\n",
       "    <tr>\n",
       "      <th>1</th>\n",
       "      <td>easy</td>\n",
       "      <td>high</td>\n",
       "      <td>67592</td>\n",
       "    </tr>\n",
       "    <tr>\n",
       "      <th>2</th>\n",
       "      <td>hard</td>\n",
       "      <td>high</td>\n",
       "      <td>41693</td>\n",
       "    </tr>\n",
       "    <tr>\n",
       "      <th>3</th>\n",
       "      <td>easy</td>\n",
       "      <td>low</td>\n",
       "      <td>43523</td>\n",
       "    </tr>\n",
       "    <tr>\n",
       "      <th>4</th>\n",
       "      <td>easy</td>\n",
       "      <td>high</td>\n",
       "      <td>47838</td>\n",
       "    </tr>\n",
       "    <tr>\n",
       "      <th>5</th>\n",
       "      <td>easy</td>\n",
       "      <td>high</td>\n",
       "      <td>96838</td>\n",
       "    </tr>\n",
       "    <tr>\n",
       "      <th>6</th>\n",
       "      <td>hard</td>\n",
       "      <td>high</td>\n",
       "      <td>65348</td>\n",
       "    </tr>\n",
       "    <tr>\n",
       "      <th>7</th>\n",
       "      <td>hard</td>\n",
       "      <td>low</td>\n",
       "      <td>7224</td>\n",
       "    </tr>\n",
       "    <tr>\n",
       "      <th>8</th>\n",
       "      <td>easy</td>\n",
       "      <td>low</td>\n",
       "      <td>67748</td>\n",
       "    </tr>\n",
       "    <tr>\n",
       "      <th>9</th>\n",
       "      <td>easy</td>\n",
       "      <td>high</td>\n",
       "      <td>30511</td>\n",
       "    </tr>\n",
       "  </tbody>\n",
       "</table>\n",
       "</div>"
      ],
      "text/plain": [
       "  data_1 data_2  student_deid\n",
       "0   hard    low           910\n",
       "1   easy   high         67592\n",
       "2   hard   high         41693\n",
       "3   easy    low         43523\n",
       "4   easy   high         47838\n",
       "5   easy   high         96838\n",
       "6   hard   high         65348\n",
       "7   hard    low          7224\n",
       "8   easy    low         67748\n",
       "9   easy   high         30511"
      ]
     },
     "execution_count": 6,
     "metadata": {},
     "output_type": "execute_result"
    }
   ],
   "source": [
    "deid_results = deid_results.drop(DROP_COLS, axis=1).reset_index(drop=True)\n",
    "deid_results"
   ]
  },
  {
   "cell_type": "markdown",
   "metadata": {},
   "source": [
    "### Step 2.3 進行資料輸出"
   ]
  },
  {
   "cell_type": "code",
   "execution_count": 7,
   "metadata": {},
   "outputs": [],
   "source": [
    "pickle.dump(deid_results, open(DATA_OUTPUT_PATH, \"wb\"))"
   ]
  }
 ],
 "metadata": {
  "kernelspec": {
   "display_name": "Python 3",
   "language": "python",
   "name": "python3"
  },
  "language_info": {
   "codemirror_mode": {
    "name": "ipython",
    "version": 3
   },
   "file_extension": ".py",
   "mimetype": "text/x-python",
   "name": "python",
   "nbconvert_exporter": "python",
   "pygments_lexer": "ipython3",
   "version": "3.10.9"
  },
  "orig_nbformat": 4
 },
 "nbformat": 4,
 "nbformat_minor": 2
}
